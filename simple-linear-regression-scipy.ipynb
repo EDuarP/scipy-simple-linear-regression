{
 "cells": [
  {
   "cell_type": "code",
   "execution_count": 3,
   "metadata": {},
   "outputs": [
    {
     "name": "stdout",
     "output_type": "stream",
     "text": [
      "Optimized parameters: [0.84285714 0.03571429]\n",
      "predicted response: [ 4.25       12.67857143 21.10714286 29.53571429 37.96428571 46.39285714\n",
      " 54.82142857 63.25      ]\n",
      "New values: [9 2 0 9 0 1 9 4 1 5]\n",
      "predicted response: [7.62142857 1.72142857 0.03571429 7.62142857 0.03571429 0.87857143\n",
      " 7.62142857 3.40714286 0.87857143 4.25      ]\n"
     ]
    },
    {
     "data": {
      "image/png": "[encoded data removed]",
      "text/plain": [
       "<Figure size 432x288 with 1 Axes>"
      ]
     },
     "metadata": {
      "needs_background": "light"
     },
     "output_type": "display_data"
    }
   ],
   "source": [
    "import numpy as np\n",
    "import matplotlib.pyplot as plt\n",
    "from scipy.optimize import curve_fit\n",
    "\n",
    "x = np.array([5,15,25,35,45,55,65,75])\n",
    "y = np.array([3,13,26,36,24,45,56,67])\n",
    "def func(x, a, b):\n",
    "    return a * x + b\n",
    "popt, pcov = curve_fit(func, x, y) # popt is the array of parameters and pcov is the covariance matrix\n",
    "print('Optimized parameters:', popt)\n",
    "y_pred = func(x, *popt) \n",
    "print('predicted response:', y_pred)\n",
    "x_new = np.random.randint(10, size=(10))\n",
    "y_new = func(x_new, *popt)\n",
    "print('New values:', x_new)\n",
    "print('predicted response:', y_new)\n",
    "plt.scatter(x_new, y_new, color='orange')\n",
    "plt.plot(x_new,func(x_new, *popt), '-r')\n",
    "plt.xlabel('x')\n",
    "plt.ylabel('y')\n",
    "plt.show()"
   ]
  }
 ],
 "metadata": {
  "kernelspec": {
   "display_name": "Python 3.9.12 64-bit",
   "language": "python",
   "name": "python3"
  },
  "language_info": {
   "codemirror_mode": {
    "name": "ipython",
    "version": 3
   },
   "file_extension": ".py",
   "mimetype": "text/x-python",
   "name": "python",
   "nbconvert_exporter": "python",
   "pygments_lexer": "ipython3",
   "version": "3.9.12"
  },
  "orig_nbformat": 4,
  "vscode": {
   "interpreter": {
    "hash": "11938c6bc6919ae2720b4d5011047913343b08a43b18698fd82dedb0d4417594"
   }
  }
 },
 "nbformat": 4,
 "nbformat_minor": 2
}
